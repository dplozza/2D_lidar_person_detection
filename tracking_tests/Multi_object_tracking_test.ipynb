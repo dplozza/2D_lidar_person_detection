{
 "cells": [
  {
   "cell_type": "markdown",
   "id": "4f02886f",
   "metadata": {},
   "source": [
    "# Multi object tracking test\n",
    "https://stonesoup.readthedocs.io/en/latest/auto_tutorials/06_DataAssociation-MultiTargetTutorial.html"
   ]
  },
  {
   "cell_type": "code",
   "execution_count": 2,
   "id": "d03da4cc",
   "metadata": {},
   "outputs": [],
   "source": [
    "import numpy as np\n",
    "from datetime import datetime, timedelta\n",
    "start_time = datetime.now()\n",
    "\n",
    "from stonesoup.models.transition.linear import CombinedLinearGaussianTransitionModel, \\\n",
    "                                               ConstantVelocity\n",
    "from stonesoup.types.groundtruth import GroundTruthPath, GroundTruthState"
   ]
  },
  {
   "cell_type": "markdown",
   "id": "9c5381ef",
   "metadata": {},
   "source": [
    "## Generate ground truth"
   ]
  },
  {
   "cell_type": "code",
   "execution_count": 3,
   "id": "86293b4a",
   "metadata": {},
   "outputs": [],
   "source": [
    "from ordered_set import OrderedSet\n",
    "\n",
    "np.random.seed(1991)\n",
    "\n",
    "truths = OrderedSet()\n",
    "\n",
    "transition_model = CombinedLinearGaussianTransitionModel([ConstantVelocity(0.005),\n",
    "                                                          ConstantVelocity(0.005)])\n",
    "\n",
    "truth = GroundTruthPath([GroundTruthState([0, 1, 0, 1], timestamp=start_time)])\n",
    "for k in range(1, 21):\n",
    "    truth.append(GroundTruthState(\n",
    "        transition_model.function(truth[k-1], noise=True, time_interval=timedelta(seconds=1)),\n",
    "        timestamp=start_time+timedelta(seconds=k)))\n",
    "truths.add(truth)\n",
    "\n",
    "truth = GroundTruthPath([GroundTruthState([0, 1, 20, -1], timestamp=start_time)])\n",
    "for k in range(1, 21):\n",
    "    truth.append(GroundTruthState(\n",
    "        transition_model.function(truth[k-1], noise=True, time_interval=timedelta(seconds=1)),\n",
    "        timestamp=start_time+timedelta(seconds=k)))\n",
    "_ = truths.add(truth)"
   ]
  }
 ],
 "metadata": {
  "kernelspec": {
   "display_name": "Python 3 (ipykernel)",
   "language": "python",
   "name": "python3"
  },
  "language_info": {
   "codemirror_mode": {
    "name": "ipython",
    "version": 3
   },
   "file_extension": ".py",
   "mimetype": "text/x-python",
   "name": "python",
   "nbconvert_exporter": "python",
   "pygments_lexer": "ipython3",
   "version": "3.8.10"
  }
 },
 "nbformat": 4,
 "nbformat_minor": 5
}
